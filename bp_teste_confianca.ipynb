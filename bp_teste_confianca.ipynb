{
 "cells": [
  {
   "cell_type": "code",
   "execution_count": 1,
   "id": "eb098ca9-5406-4b79-8b66-44a5d131eee7",
   "metadata": {},
   "outputs": [],
   "source": [
    "#ConfidenceInterval(low=70.0, high=78.0)\n",
    "#ConfidenceInterval(low=68.0, high=72.0)"
   ]
  },
  {
   "cell_type": "code",
   "execution_count": null,
   "id": "1410724d-e4e5-4b51-9687-4b3fae443612",
   "metadata": {},
   "outputs": [],
   "source": [
    "import pandas as pd\n",
    "from scipy import stats\n",
    "from scipy.stats import bootstrap\n",
    "import numpy as np\n",
    "\n",
    "d = pd.read_csv(\"bp.csv\")\n",
    "d.query(\"type == 'Yes'\", inplace = True)\n",
    "e = pd.read_csv(\"bp.csv\")\n",
    "e.query(\"type == 'No'\", inplace = True)\n",
    "\n",
    "d1 = (d['bp'],)\n",
    "d2 = (e['bp'],)\n",
    "\n",
    "# Diabéticos\n",
    "diabeticos = bootstrap(d1, np.median, confidence_level=0.95,\n",
    "                       random_state=1, method='percentile')\n",
    "\n",
    "# Não diabéticos\n",
    "ndiabeticos = bootstrap(d2, np.median, confidence_level=0.95,\n",
    "                        random_state=1, method='percentile')\n",
    "\n",
    "print(diabeticos.confidence_interval)\n",
    "print(ndiabeticos.confidence_interval)"
   ]
  }
 ],
 "metadata": {
  "kernelspec": {
   "display_name": "Python 3 (ipykernel)",
   "language": "python",
   "name": "python3"
  },
  "language_info": {
   "codemirror_mode": {
    "name": "ipython",
    "version": 3
   },
   "file_extension": ".py",
   "mimetype": "text/x-python",
   "name": "python",
   "nbconvert_exporter": "python",
   "pygments_lexer": "ipython3",
   "version": "3.10.2"
  }
 },
 "nbformat": 4,
 "nbformat_minor": 5
}
