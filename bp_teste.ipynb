{
 "cells": [
  {
   "cell_type": "code",
   "execution_count": 5,
   "id": "798881b2-b06b-4b0f-98de-914096a03c7a",
   "metadata": {},
   "outputs": [],
   "source": [
    "#Resultados obtidos no dataset:\n",
    "\n",
    "# Wilcoxon rank sum\n",
    "#Diabéticos:\n",
    "#median    76.000000\n",
    "#mean      74.588235\n",
    "#Name: bp, dtype: float64\n",
    "#Não Diabéticos:\n",
    "#median    70.000000\n",
    "#mean      69.545455\n",
    "\n",
    "#T= Ttest_indResult(statistic=3.001495202122035, pvalue=0.0030323591864622732)"
   ]
  },
  {
   "cell_type": "code",
   "execution_count": 6,
   "id": "937ea5b0-82c9-4320-af34-3c1c49cb58e0",
   "metadata": {},
   "outputs": [
    {
     "name": "stdout",
     "output_type": "stream",
     "text": [
      "Diabéticos:\n",
      "median    76.000000\n",
      "mean      74.588235\n",
      "Name: bp, dtype: float64\n",
      "Não Diabéticos:\n",
      "median    70.000000\n",
      "mean      69.545455\n",
      "Name: bp, dtype: float64\n",
      "T= Ttest_indResult(statistic=3.001495202122035, pvalue=0.0030323591864622732)\n"
     ]
    }
   ],
   "source": [
    "import pandas as pd\n",
    "import matplotlib.pyplot as plt\n",
    "from scipy import stats\n",
    "\n",
    "d = pd.read_csv(\"bp.csv\")\n",
    "g1 = d[d['type']=='Yes']\n",
    "g2 = d[d['type']=='No']\n",
    "\n",
    "# Wilcoxon rank sum\n",
    "\n",
    "diabeticos=g1['bp'].agg([\"median\",\"mean\"])\n",
    "ndiabeticos=g2['bp'].agg([\"median\",\"mean\"])\n",
    "\n",
    "print('Diabéticos:')\n",
    "print(diabeticos)\n",
    "print('Não Diabéticos:')\n",
    "print(ndiabeticos)\n",
    "\n",
    "# Teste t\n",
    "t=stats.ttest_ind(g1['bp'],g2['bp'])\n",
    "print(\"T=\",t)"
   ]
  }
 ],
 "metadata": {
  "kernelspec": {
   "display_name": "Python 3 (ipykernel)",
   "language": "python",
   "name": "python3"
  },
  "language_info": {
   "codemirror_mode": {
    "name": "ipython",
    "version": 3
   },
   "file_extension": ".py",
   "mimetype": "text/x-python",
   "name": "python",
   "nbconvert_exporter": "python",
   "pygments_lexer": "ipython3",
   "version": "3.10.2"
  }
 },
 "nbformat": 4,
 "nbformat_minor": 5
}
