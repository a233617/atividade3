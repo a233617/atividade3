{
 "cells": [
  {
   "cell_type": "code",
   "execution_count": 1,
   "id": "1a1d3d9d-483b-44ea-9f88-c2f1330243af",
   "metadata": {},
   "outputs": [],
   "source": [
    "#Agosto:\n",
    "#median    10.000000\n",
    "#mean      11.423077\n",
    "#Name: August, dtype: float64\n",
    "#Novembro:\n",
    "#median    15.300000\n",
    "#mean      16.323077\n",
    "#Name: November, dtype: float64\n",
    "#T= Ttest_indResult(statistic=-5.819709111181409, pvalue=0.028279069072247292)"
   ]
  },
  {
   "cell_type": "code",
   "execution_count": 2,
   "id": "55269815-779f-478e-9150-71346b992cc8",
   "metadata": {},
   "outputs": [
    {
     "name": "stdout",
     "output_type": "stream",
     "text": [
      "Agosto:\n",
      "median    10.000000\n",
      "mean      11.423077\n",
      "Name: August, dtype: float64\n",
      "Novembro:\n",
      "median    15.300000\n",
      "mean      16.323077\n",
      "Name: November, dtype: float64\n",
      "T= Ttest_indResult(statistic=-5.819709111181409, pvalue=0.028279069072247292)\n"
     ]
    }
   ],
   "source": [
    "import pandas as pd\n",
    "import matplotlib.pyplot as plt\n",
    "from scipy import stats\n",
    "\n",
    "d = pd.read_csv(\"paired.csv\")\n",
    "g1 = d['August']\n",
    "g2 = d['November']\n",
    "\n",
    "# Wilcoxon rank sum\n",
    "\n",
    "a=g1.agg([\"median\",\"mean\"])\n",
    "n=g2.agg([\"median\",\"mean\"])\n",
    "\n",
    "print('Agosto:')\n",
    "print(a)\n",
    "print('Novembro:')\n",
    "print(n)\n",
    "\n",
    "# Teste t\n",
    "t=stats.ttest_ind(a,n)\n",
    "print(\"T=\",t)"
   ]
  }
 ],
 "metadata": {
  "kernelspec": {
   "display_name": "Python 3 (ipykernel)",
   "language": "python",
   "name": "python3"
  },
  "language_info": {
   "codemirror_mode": {
    "name": "ipython",
    "version": 3
   },
   "file_extension": ".py",
   "mimetype": "text/x-python",
   "name": "python",
   "nbconvert_exporter": "python",
   "pygments_lexer": "ipython3",
   "version": "3.10.2"
  }
 },
 "nbformat": 4,
 "nbformat_minor": 5
}
