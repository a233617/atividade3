{
 "cells": [
  {
   "cell_type": "code",
   "execution_count": 2,
   "id": "4a5e1ac3-8749-403d-9547-2db4efca1018",
   "metadata": {},
   "outputs": [],
   "source": [
    "#-4.0723633181394945\n",
    "#-3.968437710042257"
   ]
  },
  {
   "cell_type": "code",
   "execution_count": 3,
   "id": "a4bccc67-e15f-428d-8896-86d60b68351c",
   "metadata": {},
   "outputs": [
    {
     "name": "stdout",
     "output_type": "stream",
     "text": [
      "Diabéticos: -4.0723633181394945\n",
      "Não diabéticos: -3.968437710042257\n"
     ]
    }
   ],
   "source": [
    "import pandas as pd\n",
    "import numpy as np\n",
    "from statistics import mean, stdev\n",
    "from math import sqrt\n",
    "\n",
    "d = pd.read_csv(\"bp.csv\")\n",
    "d.query(\"type == 'Yes'\", inplace = True)\n",
    "e = pd.read_csv(\"bp.csv\")\n",
    "e.query(\"type == 'No'\", inplace = True)\n",
    "\n",
    "# Diabéticos\n",
    "c0 = d['bp']\n",
    "c1 = [i * 2 for i in c0]\n",
    "c_d1 = (mean(c0) - mean(c1)) / (sqrt((stdev(c0) ** 2 + stdev(c1) ** 2) / 2))\n",
    "\n",
    "# Não diabéticos\n",
    "c0 = e['bp']\n",
    "c1 = [i * 2 for i in c0]\n",
    "c_d2 = (mean(c0) - mean(c1)) / (sqrt((stdev(c0) ** 2 + stdev(c1) ** 2) / 2))\n",
    "\n",
    "print(\"Diabéticos:\",c_d1)\n",
    "print(\"Não diabéticos:\",c_d2)"
   ]
  }
 ],
 "metadata": {
  "kernelspec": {
   "display_name": "Python 3 (ipykernel)",
   "language": "python",
   "name": "python3"
  },
  "language_info": {
   "codemirror_mode": {
    "name": "ipython",
    "version": 3
   },
   "file_extension": ".py",
   "mimetype": "text/x-python",
   "name": "python",
   "nbconvert_exporter": "python",
   "pygments_lexer": "ipython3",
   "version": "3.10.2"
  }
 },
 "nbformat": 4,
 "nbformat_minor": 5
}
